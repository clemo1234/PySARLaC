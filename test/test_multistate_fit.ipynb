{
 "cells": [
  {
   "cell_type": "code",
   "execution_count": 1,
   "id": "64ae5854-5d00-41b4-87b5-765fe5968f40",
   "metadata": {},
   "outputs": [],
   "source": [
    "import PySaRLAC as sl\n",
    "import random\n",
    "import math\n",
    "import numpy as np\n",
    "random.seed(1234)"
   ]
  },
  {
   "cell_type": "code",
   "execution_count": 2,
   "id": "39fc408d-b7e2-47b6-913c-e91cbb267780",
   "metadata": {},
   "outputs": [
    {
     "data": {
      "text/plain": [
       "2"
      ]
     },
     "execution_count": 2,
     "metadata": {},
     "output_type": "execute_result"
    }
   ],
   "source": [
    "Lt=32\n",
    "f = sl.FitMulti()\n",
    "f.addFitFunc(sl.FitConstant(),[0])\n",
    "f.addFitFunc(sl.FitCosh(Lt),[0,1])\n",
    "f.nparam()"
   ]
  },
  {
   "cell_type": "code",
   "execution_count": 3,
   "id": "f872107d-44b2-4fff-b49b-6b5291c4611f",
   "metadata": {
    "scrolled": true
   },
   "outputs": [
    {
     "name": "stdout",
     "output_type": "stream",
     "text": [
      "(0, 0.0) : 3.180926 +- 0.050999\n",
      "(1, 0.0) : 3.173786 +- 0.049165\n",
      "(0, 1.0) : 3.162285 +- 0.049128\n",
      "(1, 1.0) : 2.143414 +- 0.033339\n",
      "(0, 2.0) : 3.045013 +- 0.052646\n",
      "(1, 2.0) : 1.386843 +- 0.022635\n",
      "(0, 3.0) : 3.104517 +- 0.051818\n",
      "(1, 3.0) : 0.972919 +- 0.014821\n",
      "(0, 4.0) : 3.079007 +- 0.051439\n",
      "(1, 4.0) : 0.624953 +- 0.010488\n",
      "(0, 5.0) : 3.145534 +- 0.049010\n",
      "(1, 5.0) : 0.432652 +- 0.006870\n",
      "(0, 6.0) : 3.197783 +- 0.051583\n",
      "(1, 6.0) : 0.286952 +- 0.004588\n",
      "(0, 7.0) : 3.074494 +- 0.050564\n",
      "(1, 7.0) : 0.192722 +- 0.002985\n",
      "(0, 8.0) : 3.173411 +- 0.052579\n",
      "(1, 8.0) : 0.128325 +- 0.002101\n",
      "(0, 9.0) : 3.176482 +- 0.047004\n",
      "(1, 9.0) : 0.086525 +- 0.001320\n",
      "(0, 10.0) : 3.038590 +- 0.050716\n",
      "(1, 10.0) : 0.056460 +- 0.000874\n",
      "(0, 11.0) : 3.152706 +- 0.050694\n",
      "(1, 11.0) : 0.039557 +- 0.000612\n",
      "(0, 12.0) : 3.215935 +- 0.048983\n",
      "(1, 12.0) : 0.026389 +- 0.000417\n",
      "(0, 13.0) : 3.163414 +- 0.051081\n",
      "(1, 13.0) : 0.018714 +- 0.000299\n",
      "(0, 14.0) : 3.124113 +- 0.048433\n",
      "(1, 14.0) : 0.014082 +- 0.000230\n",
      "(0, 15.0) : 3.137939 +- 0.050575\n",
      "(1, 15.0) : 0.011021 +- 0.000174\n",
      "(0, 16.0) : 3.053999 +- 0.049837\n",
      "(1, 16.0) : 0.010341 +- 0.000157\n",
      "(0, 17.0) : 3.146122 +- 0.051674\n",
      "(1, 17.0) : 0.011291 +- 0.000181\n",
      "(0, 18.0) : 3.135442 +- 0.050343\n",
      "(1, 18.0) : 0.014145 +- 0.000226\n",
      "(0, 19.0) : 3.069669 +- 0.048299\n",
      "(1, 19.0) : 0.018882 +- 0.000291\n",
      "(0, 20.0) : 3.253140 +- 0.050310\n",
      "(1, 20.0) : 0.027396 +- 0.000434\n",
      "(0, 21.0) : 3.058229 +- 0.051722\n",
      "(1, 21.0) : 0.038674 +- 0.000663\n",
      "(0, 22.0) : 3.150108 +- 0.048502\n",
      "(1, 22.0) : 0.057609 +- 0.000880\n",
      "(0, 23.0) : 3.090092 +- 0.052060\n",
      "(1, 23.0) : 0.087044 +- 0.001388\n",
      "(0, 24.0) : 3.158549 +- 0.049861\n",
      "(1, 24.0) : 0.128947 +- 0.001965\n",
      "(0, 25.0) : 3.230523 +- 0.044949\n",
      "(1, 25.0) : 0.189867 +- 0.003101\n",
      "(0, 26.0) : 3.091303 +- 0.051905\n",
      "(1, 26.0) : 0.279213 +- 0.004291\n",
      "(0, 27.0) : 3.136869 +- 0.049330\n",
      "(1, 27.0) : 0.429845 +- 0.006603\n",
      "(0, 28.0) : 3.111351 +- 0.047403\n",
      "(1, 28.0) : 0.642349 +- 0.010359\n",
      "(0, 29.0) : 3.137965 +- 0.049004\n",
      "(1, 29.0) : 0.959893 +- 0.015748\n",
      "(0, 30.0) : 3.165360 +- 0.051656\n",
      "(1, 30.0) : 1.410959 +- 0.021538\n",
      "(0, 31.0) : 3.085993 +- 0.051890\n",
      "(1, 31.0) : 2.127361 +- 0.031413\n",
      "\n"
     ]
    }
   ],
   "source": [
    "N=400\n",
    "raw = sl.CorrelationFunction(2*Lt)\n",
    "for t in range(Lt):\n",
    "    idx=2*t\n",
    "    raw.setCoord(idx, (0,float(t)) )\n",
    "    raw.setValue(idx, sl.RawDataDistribution(N))\n",
    "    raw.value(idx).randomGaussian(3.14,1.)\n",
    "\n",
    "    idx+=1\n",
    "    raw.setCoord(idx, (1,float(t)) )\n",
    "\n",
    "    d = sl.RawDataDistribution(N)\n",
    "    d.randomGaussian(3.14,1.)\n",
    "    \n",
    "    d *= ( math.exp(-0.4*t) + math.exp(-0.4*(Lt-t) ) )\n",
    "    \n",
    "    raw.setValue(idx, d)\n",
    "    \n",
    "print(raw)\n",
    "    \n",
    "    "
   ]
  },
  {
   "cell_type": "code",
   "execution_count": 4,
   "id": "6c5cd466-4e88-4756-87b5-048b8f5d8dd3",
   "metadata": {},
   "outputs": [],
   "source": [
    "jack = raw.resample(sl.JackknifeDistribution)\n",
    "djack = raw.resample(sl.DoubleJackknifeDistribution)\n"
   ]
  },
  {
   "cell_type": "code",
   "execution_count": 5,
   "id": "23aa0ceb-05d0-428b-9c2f-6f0a8ccbd39c",
   "metadata": {},
   "outputs": [],
   "source": [
    "fit_start = 4\n",
    "fit_end = 16\n",
    "cond = lambda c : True if c[1] >= fit_start and c[1] <= fit_end else False\n",
    "jack_inrange = jack.subset(cond)\n",
    "djack_inrange = djack.subset(cond)\n"
   ]
  },
  {
   "cell_type": "code",
   "execution_count": 6,
   "id": "e40ec152-07f2-420d-8ec4-384182716bcc",
   "metadata": {},
   "outputs": [
    {
     "name": "stdout",
     "output_type": "stream",
     "text": [
      "(0, 4.0) : 3.079007 +- 0.051439\n",
      "(1, 4.0) : 0.624953 +- 0.010488\n",
      "(0, 5.0) : 3.145534 +- 0.049010\n",
      "(1, 5.0) : 0.432652 +- 0.006870\n",
      "(0, 6.0) : 3.197783 +- 0.051583\n",
      "(1, 6.0) : 0.286952 +- 0.004588\n",
      "(0, 7.0) : 3.074494 +- 0.050564\n",
      "(1, 7.0) : 0.192722 +- 0.002985\n",
      "(0, 8.0) : 3.173411 +- 0.052579\n",
      "(1, 8.0) : 0.128325 +- 0.002101\n",
      "(0, 9.0) : 3.176482 +- 0.047004\n",
      "(1, 9.0) : 0.086525 +- 0.001320\n",
      "(0, 10.0) : 3.038590 +- 0.050716\n",
      "(1, 10.0) : 0.056460 +- 0.000874\n",
      "(0, 11.0) : 3.152706 +- 0.050694\n",
      "(1, 11.0) : 0.039557 +- 0.000612\n",
      "(0, 12.0) : 3.215935 +- 0.048983\n",
      "(1, 12.0) : 0.026389 +- 0.000417\n",
      "(0, 13.0) : 3.163414 +- 0.051081\n",
      "(1, 13.0) : 0.018714 +- 0.000299\n",
      "(0, 14.0) : 3.124113 +- 0.048433\n",
      "(1, 14.0) : 0.014082 +- 0.000230\n",
      "(0, 15.0) : 3.137939 +- 0.050575\n",
      "(1, 15.0) : 0.011021 +- 0.000174\n",
      "(0, 16.0) : 3.053999 +- 0.049837\n",
      "(1, 16.0) : 0.010341 +- 0.000157\n",
      "\n"
     ]
    }
   ],
   "source": [
    "print(jack_inrange)"
   ]
  },
  {
   "cell_type": "code",
   "execution_count": 7,
   "id": "7e56e393-8c50-4b94-adb6-8655b8ca036f",
   "metadata": {},
   "outputs": [],
   "source": [
    "fitter = sl.Fitter(f)"
   ]
  },
  {
   "cell_type": "code",
   "execution_count": 8,
   "id": "90fbb288-c49f-4b60-be46-971095460270",
   "metadata": {},
   "outputs": [],
   "source": [
    "fitter.generateCovarianceMatrix(djack_inrange)"
   ]
  },
  {
   "cell_type": "code",
   "execution_count": 9,
   "id": "b14d2745-b917-4179-bb8c-6133ce64d394",
   "metadata": {},
   "outputs": [],
   "source": [
    "params = [sl.JackknifeDistribution(N,2.0), sl.JackknifeDistribution(N,1.0)]"
   ]
  },
  {
   "cell_type": "code",
   "execution_count": 10,
   "id": "eba76c33-62e1-4209-8bbf-f915a7f4243f",
   "metadata": {
    "scrolled": true
   },
   "outputs": [
    {
     "name": "stdout",
     "output_type": "stream",
     "text": [
      "Performing a fit with 2 free parameters and 24 degrees of freedom\n"
     ]
    }
   ],
   "source": [
    "chisq, dof = fitter.fit(params, jack_inrange )"
   ]
  },
  {
   "cell_type": "code",
   "execution_count": 11,
   "id": "eb6c7a0d-c518-455f-8e47-df2d5720182b",
   "metadata": {},
   "outputs": [
    {
     "data": {
      "text/plain": [
       "np.float64(1.041753847501253)"
      ]
     },
     "execution_count": 11,
     "metadata": {},
     "output_type": "execute_result"
    }
   ],
   "source": [
    "chisq.mean()/dof"
   ]
  },
  {
   "cell_type": "code",
   "execution_count": 12,
   "id": "0e1ede49-991e-4a66-a958-2e35ec09ee27",
   "metadata": {},
   "outputs": [
    {
     "name": "stdout",
     "output_type": "stream",
     "text": [
      "3.143273 +- 0.013019 0.400483 +- 0.000531\n"
     ]
    }
   ],
   "source": [
    "print(params[0],params[1])"
   ]
  },
  {
   "cell_type": "code",
   "execution_count": 13,
   "id": "1c0e3853-53b3-455c-a0be-043b3ce85f96",
   "metadata": {},
   "outputs": [],
   "source": [
    "fit_y = sl.evaluateFitFunc(f,jack_inrange,params)"
   ]
  },
  {
   "cell_type": "code",
   "execution_count": 14,
   "id": "76bcb592-191c-42f9-9090-6fc20d65e3c8",
   "metadata": {},
   "outputs": [],
   "source": [
    "import matplotlib as mpl\n",
    "import matplotlib.pyplot as pyplot"
   ]
  },
  {
   "cell_type": "code",
   "execution_count": 15,
   "id": "293dfe83-7c79-452b-b57d-9cdecb2b73d5",
   "metadata": {},
   "outputs": [],
   "source": [
    "plot_data = jack.plotInputs()\n",
    "plot_result = fit_y.plotInputs()"
   ]
  },
  {
   "cell_type": "code",
   "execution_count": 16,
   "id": "848e3779-eae4-424e-817c-75e67d75a972",
   "metadata": {},
   "outputs": [
    {
     "data": {
      "text/plain": [
       "<matplotlib.collections.FillBetweenPolyCollection at 0x7faaf6f70c20>"
      ]
     },
     "execution_count": 16,
     "metadata": {},
     "output_type": "execute_result"
    },
    {
     "data": {
      "image/png": "[encoded data removed]",
      "text/plain": [
       "<Figure size 640x480 with 1 Axes>"
      ]
     },
     "metadata": {},
     "output_type": "display_data"
    }
   ],
   "source": [
    "def getPlotData(pdata, fidx):\n",
    "    idx = [ i for i in range(len(pdata[0])) if pdata[0][i][0] == float(fidx) ]\n",
    "    return ( [ pdata[0][i][1] for i in idx ], pdata[1][idx], pdata[2][idx] )\n",
    "\n",
    "plot_data_0 = getPlotData(plot_data,0)\n",
    "plot_result_0 = getPlotData(plot_result,0)\n",
    "\n",
    "pyplot.errorbar(plot_data_0[0],plot_data_0[1],yerr=plot_data_0[2])\n",
    "pyplot.fill_between(plot_result_0[0],plot_result_0[1]-plot_result_0[2],plot_result_0[1]+plot_result_0[2])"
   ]
  },
  {
   "cell_type": "code",
   "execution_count": 17,
   "id": "9e0b7836-02fe-4c78-936f-4dfe6efb2c9e",
   "metadata": {},
   "outputs": [
    {
     "data": {
      "text/plain": [
       "<matplotlib.collections.FillBetweenPolyCollection at 0x7faaf6e4a350>"
      ]
     },
     "execution_count": 17,
     "metadata": {},
     "output_type": "execute_result"
    },
    {
     "data": {
      "image/png": "[encoded data removed]",
      "text/plain": [
       "<Figure size 640x480 with 1 Axes>"
      ]
     },
     "metadata": {},
     "output_type": "display_data"
    }
   ],
   "source": [
    "plot_data_1 = getPlotData(plot_data,1)\n",
    "plot_result_1 = getPlotData(plot_result,1)\n",
    "\n",
    "pyplot.errorbar(plot_data_1[0],plot_data_1[1],yerr=plot_data_1[2])\n",
    "pyplot.fill_between(plot_result_1[0],plot_result_1[1]-plot_result_1[2],plot_result_1[1]+plot_result_1[2])"
   ]
  },
  {
   "cell_type": "code",
   "execution_count": null,
   "id": "6613abed-7be2-45aa-b254-8c360d1da8b7",
   "metadata": {},
   "outputs": [],
   "source": []
  }
 ],
 "metadata": {
  "kernelspec": {
   "display_name": "Python 3 (ipykernel)",
   "language": "python",
   "name": "python3"
  },
  "language_info": {
   "codemirror_mode": {
    "name": "ipython",
    "version": 3
   },
   "file_extension": ".py",
   "mimetype": "text/x-python",
   "name": "python",
   "nbconvert_exporter": "python",
   "pygments_lexer": "ipython3",
   "version": "3.13.2"
  }
 },
 "nbformat": 4,
 "nbformat_minor": 5
}
